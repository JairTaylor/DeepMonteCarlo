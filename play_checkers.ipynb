{
 "cells": [
  {
   "cell_type": "code",
   "execution_count": 1,
   "metadata": {},
   "outputs": [
    {
     "name": "stderr",
     "output_type": "stream",
     "text": [
      "Using TensorFlow backend.\n"
     ]
    }
   ],
   "source": [
    "from montecarlo_lib import *  # Here we have implemented the Monte-Carlo Tree Search algorithm \n",
    "                              # as well as defining the rules of Checkers.\n",
    "\n",
    "import matplotlib.pyplot as plt\n",
    "\n",
    "import ipywidgets\n",
    "from ipywidgets import interact, IntSlider, Button\n",
    "from IPython.display import display\n",
    "\n",
    "from keras.models import Sequential\n",
    "from keras.layers import Dense\n",
    "from keras.layers import Activation\n",
    "from keras.models import model_from_json\n",
    "\n",
    "\n",
    "import tensorflow as tf \n",
    "\n",
    "\n",
    "%matplotlib inline\n",
    "\n",
    "from pylab import rcParams\n",
    "\n",
    "import time"
   ]
  },
  {
   "cell_type": "code",
   "execution_count": 27,
   "metadata": {},
   "outputs": [
    {
     "name": "stdout",
     "output_type": "stream",
     "text": [
      "Collecting edward\n",
      "\u001b[?25l  Downloading https://files.pythonhosted.org/packages/88/9b/58034eae02650c12160356ba7e3977d3669015a64107666521dc6fb23508/edward-1.3.5-py2-none-any.whl (91kB)\n",
      "\u001b[K    100% |████████████████████████████████| 92kB 1.8MB/s ta 0:00:01\n",
      "\u001b[?25hRequirement already satisfied: six>=1.10.0 in /anaconda2/lib/python2.7/site-packages (from edward) (1.11.0)\n",
      "Requirement already satisfied: numpy>=1.7 in /anaconda2/lib/python2.7/site-packages (from edward) (1.14.3)\n",
      "\u001b[31mdistributed 1.21.8 requires msgpack, which is not installed.\u001b[0m\n",
      "\u001b[31mgrin 1.2.1 requires argparse>=1.1, which is not installed.\u001b[0m\n",
      "Installing collected packages: edward\n",
      "Successfully installed edward-1.3.5\n",
      "\u001b[33mYou are using pip version 10.0.1, however version 18.1 is available.\n",
      "You should consider upgrading via the 'pip install --upgrade pip' command.\u001b[0m\n"
     ]
    }
   ],
   "source": [
    "!pip install edward"
   ]
  },
  {
   "cell_type": "code",
   "execution_count": 2,
   "metadata": {},
   "outputs": [],
   "source": [
    "\n",
    "class PolicyChooser:\n",
    "    def __init__(self, starting_game, policy0, policy1, num_games = 5):\n",
    "        self.policy0 = policy0\n",
    "        self.policy1 = policy1\n",
    "        self.starting_game = starting_game\n",
    "        self.num_games = num_games\n",
    "        \n",
    "    def BestPolicy(self, verbose = False):\n",
    "        games_list = []\n",
    "        winners_list = []\n",
    "        all_game_trees_list = []\n",
    "        for game_num in range(self.num_games):\n",
    "            game = deepcopy(self.starting_game)\n",
    "\n",
    "            game_states_list = []\n",
    "            game_trees_list = []\n",
    "            if verbose:\n",
    "                print(\"Game %d commencing.\" % game_num)\n",
    "            \n",
    "            \n",
    "            for i in range(max_turns):\n",
    "                num_actions = game.num_actions()     \n",
    "                game.notes = ''\n",
    "                game.notes += 'Turn %d: Player %d now choosing action from board above.\\n' %  (i, game.player)\n",
    "                game_to_play = deepcopy(game)\n",
    "                game_to_play.max_turns = 60 #This setting stops stalling-for-time strategies\n",
    "\n",
    "                if game.player == 0:\n",
    "                    policy = self.policy0\n",
    "                elif game.player == 1:\n",
    "                    policy = self.policy1\n",
    "                \n",
    "                action = policy.play(game)\n",
    "\n",
    "                if action is None:\n",
    "                    game.notes +=  \"No good move.  Taking random action.\\n\"\n",
    "                    #print(game.notes)\n",
    "                    action = game.random_action()\n",
    "\n",
    "                game_states_list.append(deepcopy(game))\n",
    "                (observation, reward, done, info) = game.step(action)        \n",
    "\n",
    "\n",
    "                if done:\n",
    "                    winner = game.winner()\n",
    "\n",
    "                    if winner == 'draw':\n",
    "                        note = \"Game is a draw.\"\n",
    "                    else:\n",
    "                        note = 'Player %d wins! (after %d moves)' % (game.winner(), i)\n",
    "                    game.notes = note\n",
    "                    if verbose:\n",
    "                        print(note)\n",
    "                    winners_list.append(game.winner())\n",
    "                if done:\n",
    "                    game_states_list.append(deepcopy(game))\n",
    "                    break\n",
    "            else:\n",
    "                if verbose:\n",
    "                    print(\"Game timed out.\")\n",
    "                winners_list.append(None)\n",
    "\n",
    "            games_list.append(deepcopy(game_states_list))\n",
    "            all_game_trees_list.append(game_trees_list)\n",
    "        if verbose:\n",
    "            print(winners_list)\n",
    "        \n",
    "        \n",
    "        self.games_list = games_list\n",
    "        self.all_game_trees_list = all_game_trees_list\n",
    "        self.winners_list = winners_list\n",
    "        \n",
    "        \n",
    "        if winners_list.count(0) != winners_list.count(1):\n",
    "            best_policy = argmax({0:winners_list.count(0), 1:winners_list.count(1)})\n",
    "            print(\"Winner is policy %d with %d:%d wins\" % (best_policy, winners_list.count(best_policy), winners_list.count(1-best_policy)   ))\n",
    "        else:\n",
    "            print(\"Tie!!\")\n",
    "            best_policy = np.random.randint(2)\n",
    "            \n",
    "        self.best_policy = best_policy\n",
    "        return best_policy"
   ]
  },
  {
   "cell_type": "code",
   "execution_count": 3,
   "metadata": {},
   "outputs": [
    {
     "name": "stdout",
     "output_type": "stream",
     "text": [
      "Loaded model from disk\n"
     ]
    }
   ],
   "source": [
    "# load json and create model\n",
    "layers = [30,30,30]\n",
    "activations = ['relu', 'relu', 'relu']\n",
    "\n",
    "model = Sequential()\n",
    "\n",
    "input_dim = 72\n",
    "for i in range(len(layers)):\n",
    "    if activations is None:\n",
    "        activation = 'relu'\n",
    "    else:\n",
    "        activation = activations[i]\n",
    "\n",
    "    if i == 0:\n",
    "        model.add(Dense(layers[i],  activation = activation, input_dim = input_dim))\n",
    "    else:\n",
    "        model.add(Dense(layers[i],  activation = activation))\n",
    "\n",
    "model.add(Dense(3))\n",
    "#model.add(Activation('softmax'))\n",
    "\n",
    "model.add(Activation(tf.nn.softmax))\n",
    "\n",
    "# Compile model\n",
    "model.compile(loss='categorical_crossentropy', optimizer='adam', metrics=['mean_squared_error'])\n",
    "\n",
    "\n",
    "\n",
    "\n",
    "# load weights into new model\n",
    "model.load_weights(\"checkersnet_2018-10-15.h5\")\n",
    "print(\"Loaded model from disk\")"
   ]
  },
  {
   "cell_type": "code",
   "execution_count": 4,
   "metadata": {},
   "outputs": [],
   "source": [
    "\n",
    "max_turns = 100  #max number of turns allowed in a single game. (after that winner is the player with most pieces)\n",
    "total_budget = 100\n",
    "num_games = 20\n",
    "num_training_steps = 10\n",
    "simulation_policies = [RandomPolicy(), RandomPolicy()]\n",
    "orderliness = 30\n",
    "board_size = 6\n",
    "num_simulations = 3\n",
    "epochs = 300\n",
    "layers = [30,30,30]\n",
    "activations = ['relu', 'relu', 'relu']\n",
    "\n",
    "symmetrize = True\n",
    "\n",
    "starting_game = checkers_state(board_size = board_size, max_turns = max_turns, tiebreaker_rule = True)\n"
   ]
  },
  {
   "cell_type": "code",
   "execution_count": 5,
   "metadata": {},
   "outputs": [],
   "source": [
    "\n",
    "simulation_policy = NeuralNetPolicy(model)\n",
    "\n",
    "ai_opponent = MonteCarloTree(starting_game, \n",
    "                           budget = 400, \n",
    "                           num_simulations = 1, \n",
    "                           max_steps_to_simulate = max_turns,\n",
    "                           simulation_policy = RandomPolicy(),\n",
    "                           save_simulations = True)"
   ]
  },
  {
   "cell_type": "code",
   "execution_count": 6,
   "metadata": {},
   "outputs": [],
   "source": [
    "def attempt_action(b):\n",
    "    global game,R,actions,move_button,slider,game_history\n",
    "    actions = game.get_action_space()\n",
    "\n",
    "    action = slider.value\n",
    "    if action < game.num_actions():\n",
    "        game_history.append(game.step(action, inplace = False)[-1])\n",
    "        game = game_history[-1]\n",
    "        \n",
    "        check_finish()\n",
    "        while game.player == 1:\n",
    "            #ai opponent to move\n",
    "            time.sleep(1)\n",
    "            R.widget.update()\n",
    "            move_button.disabled = True\n",
    "            move_button.description = \"AI thinking...\"\n",
    "            action = ai_opponent.play(game)\n",
    "            if action is None:\n",
    "                game.notes +=  \"No good move.  Taking random action.\\n\"\n",
    "                #print(game.notes)\n",
    "                action = game.random_action()\n",
    "            \n",
    "            game_history.append(game.step(action, inplace = False)[-1])\n",
    "            game = game_history[-1]\n",
    "        refresh_display()\n",
    "        check_finish()\n",
    "        if not game.is_done():\n",
    "            move_button.disabled = False\n",
    "            move_button.description = \"Move!\"\n",
    "    else:\n",
    "        print(\"invalid move!\")\n",
    "        \n",
    "def set_difficulty(budget):\n",
    "    global ai_opponent\n",
    "    ai_opponent.difficulty = budget\n",
    "        \n",
    "def undo(x):\n",
    "    #some argument x required to work for .on_click() but not used\n",
    "    global game,game_history\n",
    "    \n",
    "    game_index = max([i for i in range(len(game_history[:-1])) if game_history[i].player == 0])\n",
    "    \n",
    "    game = game_history[game_index]\n",
    "    game_history = game_history[:game_index+1]\n",
    "    refresh_display()\n",
    "    \n",
    "def restart_game(b):\n",
    "    global game,arrow_color,plt,ax,R,actions,move_button,slider\n",
    "    game = checkers_state(board_size = board_size, max_turns = max_turns, tiebreaker_rule = True)\n",
    "    refresh_display()\n",
    "    slider.disabled = False\n",
    "    move_button.disabled = False\n",
    "    #     plt.clf()\n",
    "#     ax.clear()\n",
    "#     show_board(game, move = move, arrow_color = arrow_color)\n",
    "\n",
    "def refresh_display(x = None, check = False):  \n",
    "    #some argument x required to work for .observe() but not used\n",
    "    global R,actions,slider,assist_checkbox\n",
    "    actions = game.get_action_space()\n",
    "    if len(actions) > 0:\n",
    "        slider.max = len(actions) - 1\n",
    "#     else:\n",
    "#         slider.disabled = True\n",
    "    R.widget.update()\n",
    "    \n",
    "def checkbox_click(x):\n",
    "    global ai_assist,assist_checkbox,R\n",
    "    ai_assist = assist_checkbox.value\n",
    "    R.widget.update()\n",
    "    #print (ai_assist)\n",
    "    #refresh_display()\n",
    "    \n",
    "def change_difficulty(x):\n",
    "    global difficulty_box, ai_opponent\n",
    "    ai_opponent.budget = difficulty_box.value\n",
    "\n",
    "def check_finish():\n",
    "    global game,move_button,slider\n",
    "    if game.is_done():\n",
    "        winner = game.winner()\n",
    "        if winner == 0:\n",
    "            print(\"You win!!\")\n",
    "        elif winner == 1:\n",
    "            print(\"AI wins!!\")\n",
    "        elif winner == 'draw':\n",
    "            print(\"DRAW!\")\n",
    "        #slider.disabled = True\n",
    "        move_button.disabled = True\n",
    "        move_button.description = \"Game over\""
   ]
  },
  {
   "cell_type": "code",
   "execution_count": 7,
   "metadata": {},
   "outputs": [
    {
     "data": {
      "application/vnd.jupyter.widget-view+json": {
       "model_id": "4d5a006710f04bbbb6ec4efef8bf4556",
       "version_major": 2,
       "version_minor": 0
      },
      "text/plain": [
       "Button(description='Move!', style=ButtonStyle())"
      ]
     },
     "metadata": {},
     "output_type": "display_data"
    },
    {
     "data": {
      "application/vnd.jupyter.widget-view+json": {
       "model_id": "82cfd6c0552a433ea0a07750a663b7f0",
       "version_major": 2,
       "version_minor": 0
      },
      "text/plain": [
       "Button(description='Undo', style=ButtonStyle())"
      ]
     },
     "metadata": {},
     "output_type": "display_data"
    },
    {
     "data": {
      "application/vnd.jupyter.widget-view+json": {
       "model_id": "e367a0886a2844c48b1eddf43b901ddc",
       "version_major": 2,
       "version_minor": 0
      },
      "text/plain": [
       "Button(description='Restart', style=ButtonStyle())"
      ]
     },
     "metadata": {},
     "output_type": "display_data"
    },
    {
     "data": {
      "application/vnd.jupyter.widget-view+json": {
       "model_id": "a9f262e2453142398575ee385aa20ed4",
       "version_major": 2,
       "version_minor": 0
      },
      "text/plain": [
       "BoundedIntText(value=50, description='AI difficulty:', max=1000)"
      ]
     },
     "metadata": {},
     "output_type": "display_data"
    },
    {
     "data": {
      "application/vnd.jupyter.widget-view+json": {
       "model_id": "6685f7f436324648a3969d9db80f8cee",
       "version_major": 2,
       "version_minor": 0
      },
      "text/plain": [
       "Checkbox(value=False, description='AI assist', indent=False)"
      ]
     },
     "metadata": {},
     "output_type": "display_data"
    },
    {
     "data": {
      "application/vnd.jupyter.widget-view+json": {
       "model_id": "7bc6d59bbc08416fb212f91aa22c6871",
       "version_major": 2,
       "version_minor": 0
      },
      "text/plain": [
       "interactive(children=(IntSlider(value=0, description='Choose', max=4), Output()), _dom_classes=('widget-intera…"
      ]
     },
     "metadata": {},
     "output_type": "display_data"
    },
    {
     "name": "stdout",
     "output_type": "stream",
     "text": [
      "DRAW!\n"
     ]
    }
   ],
   "source": [
    "rcParams['figure.figsize'] = 4,4\n",
    "\n",
    "#fig, ax = plt.subplots()\n",
    "game = checkers_state(board_size = board_size, max_turns = max_turns, tiebreaker_rule = True)\n",
    "game_history = [checkers_state(board_size = board_size, max_turns = max_turns, tiebreaker_rule = True)]\n",
    "ai_assist = False\n",
    "\n",
    "actions = game.get_action_space()\n",
    "\n",
    "move_button = Button(\n",
    "    description=\"Move!\",\n",
    "    button_style='', # 'success', 'info', 'warning', 'danger' or ''\n",
    "    icon=''\n",
    ")\n",
    "\n",
    "restart_button = Button(\n",
    "    description=\"Restart\"\n",
    ")\n",
    "\n",
    "undo_button = Button(\n",
    "    description=\"Undo\"\n",
    ")\n",
    "\n",
    "\n",
    "difficulty_box = ipywidgets.BoundedIntText(\n",
    "    value=50,\n",
    "    min=0,\n",
    "    max=1000,\n",
    "    step=1,\n",
    "    description='AI difficulty:',\n",
    "    disabled=False\n",
    ")\n",
    "\n",
    "assist_checkbox = ipywidgets.Checkbox(\n",
    "    value=ai_assist,\n",
    "    description='AI assist',\n",
    "    disabled=False,\n",
    "    indent = False\n",
    ")\n",
    "\n",
    "move_button.on_click(attempt_action)\n",
    "restart_button.on_click(restart_game)\n",
    "undo_button.on_click(undo)\n",
    "assist_checkbox.observe(checkbox_click)\n",
    "difficulty_box.observe(change_difficulty)\n",
    "\n",
    "display(move_button)\n",
    "display(undo_button)\n",
    "display(restart_button)\n",
    "display(difficulty_box)\n",
    "display(assist_checkbox)\n",
    "\n",
    "def f(Choose):\n",
    "    i = Choose\n",
    "    global arrow_color,valid_move,move_button,assist_checkbox,ai_assist,restart_button\n",
    "\n",
    "#     if move_button.disabled:\n",
    "#         return None\n",
    "    \n",
    "    if i < len(actions):\n",
    "        action = actions[i]\n",
    "        valid_move = True\n",
    "    else:\n",
    "        action = None\n",
    "        valid_move = False\n",
    "    \n",
    "\n",
    "    if valid_move:\n",
    "        game.show_board(move = action, arrow_color = 'green')\n",
    "    else:\n",
    "        game.show_board()\n",
    "        \n",
    "    if len(game_history) <= 1:\n",
    "        undo_button.disabled = True\n",
    "    else:\n",
    "        undo_button.disabled = False\n",
    "    \n",
    "    if ai_assist and valid_move:\n",
    "        nextmove_game = game.step(i, inplace = False)[-1]\n",
    "        \n",
    "        v = get_single_board_vector(nextmove_game, symmetrize = symmetrize)\n",
    "        X = np.array([v])\n",
    "        model_output = list(100 * model.predict(X)[0])\n",
    "\n",
    "        if game.player == 1 and symmetrize:\n",
    "            model_output = [model_output[1], model_output[0], model_output[2]]\n",
    "\n",
    "\n",
    "        print(\"Chance victory with this action: \", model_output[0], '%')\n",
    "        print(\"Chance of AI victory: \", model_output[1], '%')\n",
    "        print(\"Chance of draw:             \", model_output[2], '%')\n",
    "\n",
    "\n",
    "#R = interact(f, i = 0, min = 0, max = len(actions) - 1);\n",
    "slider = IntSlider(min=0,max=len(actions) - 1,step=1,value=0)\n",
    "R = interact(f, Choose=slider);\n",
    "\n",
    "    #    (observation, reward, done, info) = game.step(action) "
   ]
  },
  {
   "cell_type": "code",
   "execution_count": 26,
   "metadata": {},
   "outputs": [
    {
     "data": {
      "application/vnd.jupyter.widget-view+json": {
       "model_id": "bf17ddb58b5947638a33281f9b0c8bf5",
       "version_major": 2,
       "version_minor": 0
      },
      "text/plain": [
       "interactive(children=(IntSlider(value=0, description='i', max=3), Output()), _dom_classes=('widget-interact',)…"
      ]
     },
     "metadata": {},
     "output_type": "display_data"
    },
    {
     "data": {
      "text/plain": [
       "<function __main__.game_slider(i)>"
      ]
     },
     "execution_count": 26,
     "metadata": {},
     "output_type": "execute_result"
    }
   ],
   "source": [
    "# child = ai_opponent.BestChild(ai_opponent.root, explore = False)\n",
    "# #c = ai_opponent.tree[child]\n",
    "# game_to_view = 0\n",
    "# game_states_list = child.games[game_to_view] \n",
    "# rcParams['figure.figsize'] = 4,4\n",
    "\n",
    "# def game_slider(i):\n",
    "#     game_states_list[i].show_board()\n",
    "    \n",
    "#     v = get_single_board_vector(game_states_list[i])\n",
    "#     X = np.array([v])\n",
    "#     model_output = list(100 * model.predict(X)[0])\n",
    "#     #print(game_states_list[i].notes)\n",
    "#     print(\"Chance of Player 0 victory: \", model_output[0], '%')\n",
    "#     print(\"Chance of Player 1 victory: \", model_output[1], '%')\n",
    "#     print(\"Chance of draw:             \", model_output[2], '%')\n",
    "#     return 'Player: %d' % game_states_list[i].player\n",
    "\n",
    "# interact(game_slider, i = IntSlider(min=0,max=len(game_states_list)-1,step=1,value=0))\n",
    "\n"
   ]
  },
  {
   "cell_type": "code",
   "execution_count": 14,
   "metadata": {},
   "outputs": [
    {
     "name": "stdout",
     "output_type": "stream",
     "text": [
      "starting from:\n"
     ]
    },
    {
     "data": {
      "image/png": "[encoded data removed]",
      "text/plain": [
       "<Figure size 288x288 with 1 Axes>"
      ]
     },
     "metadata": {},
     "output_type": "display_data"
    },
    {
     "name": "stdout",
     "output_type": "stream",
     "text": [
      "1\n"
     ]
    },
    {
     "data": {
      "image/png": "[encoded data removed]",
      "text/plain": [
       "<Figure size 288x288 with 1 Axes>"
      ]
     },
     "metadata": {},
     "output_type": "display_data"
    },
    {
     "name": "stdout",
     "output_type": "stream",
     "text": [
      "action: 0 ie. ((2, 1), (3, 2))\n",
      "len: 58 expected: 58\n",
      "Num player ai losses: 29\n",
      "Num player ai victories: 9\n",
      "value: 0.3275862068965517\n",
      "2\n"
     ]
    },
    {
     "data": {
      "image/png": "[encoded data removed]",
      "text/plain": [
       "<Figure size 288x288 with 1 Axes>"
      ]
     },
     "metadata": {},
     "output_type": "display_data"
    },
    {
     "name": "stdout",
     "output_type": "stream",
     "text": [
      "action: 1 ie. ((2, 1), (1, 2))\n",
      "len: 19 expected: 19\n",
      "Num player ai losses: 15\n",
      "Num player ai victories: 1\n",
      "value: 0.13157894736842105\n",
      "3\n"
     ]
    },
    {
     "data": {
      "image/png": "[encoded data removed]",
      "text/plain": [
       "<Figure size 288x288 with 1 Axes>"
      ]
     },
     "metadata": {},
     "output_type": "display_data"
    },
    {
     "name": "stdout",
     "output_type": "stream",
     "text": [
      "action: 2 ie. ((2, 1), (3, 0))\n",
      "len: 66 expected: 66\n",
      "Num player ai losses: 27\n",
      "Num player ai victories: 9\n",
      "value: 0.36363636363636365\n",
      "4\n"
     ]
    },
    {
     "data": {
      "image/png": "[encoded data removed]",
      "text/plain": [
       "<Figure size 288x288 with 1 Axes>"
      ]
     },
     "metadata": {},
     "output_type": "display_data"
    },
    {
     "name": "stdout",
     "output_type": "stream",
     "text": [
      "action: 3 ie. ((2, 1), (1, 0))\n",
      "len: 53 expected: 53\n",
      "Num player ai losses: 27\n",
      "Num player ai victories: 7\n",
      "value: 0.3113207547169811\n",
      "5\n"
     ]
    },
    {
     "data": {
      "image/png": "[encoded data removed]",
      "text/plain": [
       "<Figure size 288x288 with 1 Axes>"
      ]
     },
     "metadata": {},
     "output_type": "display_data"
    },
    {
     "name": "stdout",
     "output_type": "stream",
     "text": [
      "action: 4 ie. ((5, 2), (4, 1))\n",
      "len: 4 expected: 4\n",
      "Num player ai losses: 0\n",
      "Num player ai victories: 0\n",
      "value: 0.5\n"
     ]
    }
   ],
   "source": [
    "# print(\"starting from:\")\n",
    "# ai_opponent.root.state.show_board()\n",
    "\n",
    "# for i in ai_opponent.root.children:\n",
    "#     print(i)\n",
    "#     child = ai_opponent.tree[i]\n",
    "#     child.state.show_board()\n",
    "#     print('action:', child.action, 'ie.', ai_opponent.root.state.get_action_from_int(child.action))\n",
    "#     print('len:', len(child.all_simulation_results), 'expected:',child.N)\n",
    "#     print('Num player ai losses:', child.all_simulation_results.count(0))\n",
    "#     print('Num player ai victories:', child.all_simulation_results.count(1))\n",
    "#     print('value:', child.Q/child.N)"
   ]
  }
 ],
 "metadata": {
  "kernelspec": {
   "display_name": "Python [conda env:tensorflow_conda]",
   "language": "python",
   "name": "conda-env-tensorflow_conda-py"
  },
  "language_info": {
   "codemirror_mode": {
    "name": "ipython",
    "version": 3
   },
   "file_extension": ".py",
   "mimetype": "text/x-python",
   "name": "python",
   "nbconvert_exporter": "python",
   "pygments_lexer": "ipython3",
   "version": "3.6.6"
  }
 },
 "nbformat": 4,
 "nbformat_minor": 2
}
